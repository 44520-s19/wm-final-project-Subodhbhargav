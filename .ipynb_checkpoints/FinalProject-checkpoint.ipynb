{
 "cells": [
  {
   "cell_type": "markdown",
   "metadata": {},
   "source": [
    "# Analysis of Mobile Device Sales"
   ]
  },
  {
   "cell_type": "markdown",
   "metadata": {},
   "source": [
    "Mobile devices have revolutionized the day to day life and they are been the inexorable part of human existence. Learning the trades and statistics of smart phone market in being the fascinating topic among the teenagers and tech freaks. \n",
    "Leading the smart phone industry  involves a lot of technologies and technicians involved. Here we are trying to analyze the market share and visualize the market strategies."
   ]
  },
  {
   "cell_type": "markdown",
   "metadata": {},
   "source": [
    "# Procedure:"
   ]
  },
  {
   "cell_type": "markdown",
   "metadata": {},
   "source": [
    "1. Retrieve the data using web scraping\n",
    "2. Traversing through the data to gather the relevant information\n",
    "3. Cleaning the data by segregating the relevant data into different lists \n",
    "4. Analysis of the cleansed data to find the overall market share of the brands \n",
    "5. Visualization of the results"
   ]
  },
  {
   "cell_type": "markdown",
   "metadata": {},
   "source": [
    "# Libraries Required"
   ]
  },
  {
   "cell_type": "markdown",
   "metadata": {},
   "source": [
    "1. requests\n",
    "2. BeautifulSoup\n",
    "3. Matplotlib"
   ]
  },
  {
   "cell_type": "code",
   "execution_count": 64,
   "metadata": {},
   "outputs": [
    {
     "name": "stdout",
     "output_type": "stream",
     "text": [
      "['US Smartphone Shipments Market Share (%)', '2018Q1', '2018Q2', '2018Q3', '2018Q4', '2019Q1', 'Apple', '37%', '40%', '39%', '47%', '39%', 'Samsung', '26%', '25%', '25%', '22%', '28%', '', 'LG', '14%', '16%', '17%', '12%', '11%', '', '', 'Motorola', '4%', '5%', '8%', '6%', '8%', '', '', 'Other', '19%', '14%', '11%', '13%', '14%', '', '']\n"
     ]
    }
   ],
   "source": [
    "#libraries that are used for webscraping\n",
    "import requests\n",
    "from bs4 import BeautifulSoup\n",
    "\n",
    "#website used for webscraping\n",
    "x = 'https://www.counterpointresearch.com/us-market-smartphone-share/'\n",
    "\n",
    "\n",
    "#parsing hte htmlk request to the data\n",
    "s = BeautifulSoup(requests.get(x).text)\n",
    "text = s.body.table.text\n",
    "y = text.split('</tr>')\n",
    "\n",
    "for i in range(0,1):\n",
    "    result = y[0].splitlines()\n",
    "\n",
    "count = 0\n",
    "for z in result:\n",
    "    if(z == ''):\n",
    "        count = count+1\n",
    "        result.remove(z)\n",
    "print(result)\n"
   ]
  },
  {
   "cell_type": "markdown",
   "metadata": {},
   "source": [
    "# Cleaning the Data"
   ]
  },
  {
   "cell_type": "code",
   "execution_count": 60,
   "metadata": {},
   "outputs": [
    {
     "name": "stdout",
     "output_type": "stream",
     "text": [
      "['2018Q1', '2018Q2', '2018Q3', '2018Q4', '2019Q1']\n",
      "['Apple', 'Samsung', 'LG', 'Motorola', 'Other']\n",
      "[[37, 40, 39, 47, 39], [26, 25, 25, 22, 28], [14, 16, 17, 12, 11], [4, 5, 8, 6, 8], [19, 14, 11, 13, 14]]\n"
     ]
    }
   ],
   "source": [
    "#A set defining the different quatersof the data\n",
    "horizontal = []\n",
    "for r in result:\n",
    "    if(r.find('Q')>-1):\n",
    "        horizontal.append(r)\n",
    "        \n",
    "print(horizontal)\n",
    "\n",
    "#A list defining different brands of smart phones devices\n",
    "heading = []\n",
    "for q in result:\n",
    "    if(q.find('%')==-1):\n",
    "        if(q.find('Q')==-1):\n",
    "            if(q != ''):\n",
    "                heading.append(q)\n",
    "print(heading)\n",
    "\n",
    "\n",
    "#Initialiszing the lists which are used to store sales of samrtphone deviecs\n",
    "set1 = []\n",
    "set2 = []\n",
    "set3 = []\n",
    "set4 = []\n",
    "set5 = []\n",
    "count = 0\n",
    "\n",
    "manipulating = result\n",
    "manipulating.pop(0)\n",
    "for s in manipulating:\n",
    "    if(s.find('%')>-1):\n",
    "        s = s.replace('%','')\n",
    "        s = int(s)\n",
    "        values.append(s)\n",
    "        count = count+1\n",
    "        if(count<6):\n",
    "            set1.append(s)\n",
    "        elif(count<11):\n",
    "            if(count>5):\n",
    "                set2.append(s)\n",
    "        elif(count<16):\n",
    "            if(count>10):\n",
    "                set3.append(s)\n",
    "        elif(count<21):\n",
    "            if(count>15):\n",
    "                set4.append(s)\n",
    "        elif(count<26):\n",
    "            if(count>20):\n",
    "                set5.append(s)\n",
    "\n",
    "finalData = []\n",
    "finalData.append(set1)\n",
    "finalData.append(set2)\n",
    "finalData.append(set3)\n",
    "finalData.append(set4)\n",
    "finalData.append(set5)\n",
    "print(finalData)"
   ]
  },
  {
   "cell_type": "markdown",
   "metadata": {},
   "source": [
    "# Analysing the Data"
   ]
  },
  {
   "cell_type": "markdown",
   "metadata": {},
   "source": [
    "From the data retrieved by the data cleaning process we have considerable marketshare percentage sales of different smartphones brands.\n",
    "This data analysis is focused on analysing which smart phone brand/company have the highest market share of the year 2018"
   ]
  },
  {
   "cell_type": "code",
   "execution_count": 61,
   "metadata": {},
   "outputs": [
    {
     "name": "stdout",
     "output_type": "stream",
     "text": [
      "[40.4, 25.2, 14.0, 6.2, 14.2]\n"
     ]
    }
   ],
   "source": [
    "#Aggregrate sales of Apple smart phones\n",
    "Apple_sales = 0\n",
    "for a in set1:\n",
    "    Apple_sales = Apple_sales + a\n",
    "Apple_sales = Apple_sales/5\n",
    "\n",
    "#Aggregrate sales of Samsung smart phones\n",
    "Samsung_sales = 0\n",
    "for s in set2:\n",
    "    Samsung_sales = Samsung_sales + s\n",
    "Samsung_sales = Samsung_sales/5\n",
    "\n",
    "#Aggregrate sales of LG smart phones\n",
    "LG_sales = 0\n",
    "for l in set3:\n",
    "    LG_sales = LG_sales + l\n",
    "LG_sales = LG_sales/5\n",
    "\n",
    "#Aggregrate sales of Motorola smart phones\n",
    "Motorola_sales = 0\n",
    "for m in set4:\n",
    "    Motorola_sales = Motorola_sales + m\n",
    "Motorola_sales = Motorola_sales/5\n",
    "\n",
    "#Aggregrate sales of Other smart phones\n",
    "Other_sales = 0\n",
    "for o in set5:\n",
    "    Other_sales = Other_sales + o\n",
    "Other_sales = Other_sales/5\n",
    "\n",
    "All_sales = [Apple_sales,Samsung_sales,LG_sales,Motorola_sales,Other_sales]\n",
    "print(All_sales)"
   ]
  },
  {
   "cell_type": "markdown",
   "metadata": {},
   "source": [
    "# Visualization of Data"
   ]
  },
  {
   "cell_type": "markdown",
   "metadata": {},
   "source": [
    "Grapgh representing the market share of samrtphone brandsof different quaters in the year of 2018"
   ]
  },
  {
   "cell_type": "code",
   "execution_count": 68,
   "metadata": {},
   "outputs": [
    {
     "data": {
      "image/png": "[encoded data removed]",
      "text/plain": [
       "<Figure size 432x288 with 1 Axes>"
      ]
     },
     "metadata": {
      "needs_background": "light"
     },
     "output_type": "display_data"
    }
   ],
   "source": [
    "from mpl_toolkits.mplot3d import Axes3D\n",
    "import matplotlib.pyplot as plt\n",
    "\n",
    "xs = horizontal\n",
    "zs =  LG\n",
    "arz = Motorola\n",
    "plt.scatter(xs,set3,color='g',marker=\"s\",label='LG')\n",
    "plt.scatter(xs,set4,color='r',marker='^',label='Motorola')\n",
    "plt.scatter(xs,set1,color='b',marker='p',label='Apple')\n",
    "plt.scatter(xs,set2,color='y',marker='H',label='Samsung')\n",
    "plt.xlabel('MObile Devices')\n",
    "plt.ylabel('Percentage of sales of smartphones')\n",
    "plt.title(\"Representing the Marketshare of smartphones brands in different quaters of 2018\")\n",
    "plt.legend(loc='upper left')\n",
    "plt.show()\n"
   ]
  },
  {
   "cell_type": "markdown",
   "metadata": {},
   "source": [
    "Graph representing the overall marketshareof mobile device brands in 2018"
   ]
  },
  {
   "cell_type": "code",
   "execution_count": 69,
   "metadata": {},
   "outputs": [
    {
     "data": {
      "image/png": "[encoded data removed]",
      "text/plain": [
       "<Figure size 432x288 with 1 Axes>"
      ]
     },
     "metadata": {
      "needs_background": "light"
     },
     "output_type": "display_data"
    }
   ],
   "source": [
    "#libraries used for plotting a scatter graph \n",
    "from mpl_toolkits.mplot3d import Axes3D\n",
    "import matplotlib.pyplot as plt\n",
    "\n",
    "xs = heading\n",
    "zs =  LG\n",
    "arz = Motorola\n",
    "plt.scatter(xs,All_sales,color='g',marker=\"s\",label='Market share')\n",
    "\n",
    "plt.xlabel('MObile Devices')\n",
    "plt.ylabel('Percentage sales of smartphones')\n",
    "plt.title(\"Representing the Marketshare of smartphones brands of year 2018\")\n",
    "plt.legend(loc='upper right')\n",
    "plt.show()\n"
   ]
  },
  {
   "cell_type": "markdown",
   "metadata": {},
   "source": [
    "# Conclusion"
   ]
  },
  {
   "cell_type": "markdown",
   "metadata": {},
   "source": [
    "1. Mobile device sales in USA are mainly operator-driven, analyzing these details will provide more insight on the market\n",
    "2. Data is analyzed to see which smart phone brand has the highest market share and which leads the competition of mobile sales in 2018. \n",
    "3. Data represents the percentage of sales of different mobile device brands\n",
    "4. This data can be used to analyze our objective \n",
    "5. According to the sales of 2018., Apple company holds the highest market share in USA\n",
    "6. Where as Motorola has the lowest share of 6.2\n",
    "\n"
   ]
  },
  {
   "cell_type": "code",
   "execution_count": null,
   "metadata": {},
   "outputs": [],
   "source": []
  }
 ],
 "metadata": {
  "kernelspec": {
   "display_name": "Python 3",
   "language": "python",
   "name": "python3"
  },
  "language_info": {
   "codemirror_mode": {
    "name": "ipython",
    "version": 3
   },
   "file_extension": ".py",
   "mimetype": "text/x-python",
   "name": "python",
   "nbconvert_exporter": "python",
   "pygments_lexer": "ipython3",
   "version": "3.7.3"
  }
 },
 "nbformat": 4,
 "nbformat_minor": 2
}
